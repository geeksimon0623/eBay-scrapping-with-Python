{
 "cells": [
  {
   "cell_type": "code",
   "execution_count": 1,
   "id": "5e2d3f15",
   "metadata": {},
   "outputs": [],
   "source": [
    "import pandas as pd"
   ]
  },
  {
   "cell_type": "code",
   "execution_count": 2,
   "id": "08deb4c8",
   "metadata": {},
   "outputs": [],
   "source": [
    "df = pd.read_csv('flip.csv')"
   ]
  },
  {
   "cell_type": "code",
   "execution_count": 5,
   "id": "ae3656d9",
   "metadata": {},
   "outputs": [
    {
     "data": {
      "text/html": [
       "<div>\n",
       "<style scoped>\n",
       "    .dataframe tbody tr th:only-of-type {\n",
       "        vertical-align: middle;\n",
       "    }\n",
       "\n",
       "    .dataframe tbody tr th {\n",
       "        vertical-align: top;\n",
       "    }\n",
       "\n",
       "    .dataframe thead th {\n",
       "        text-align: right;\n",
       "    }\n",
       "</style>\n",
       "<table border=\"1\" class=\"dataframe\">\n",
       "  <thead>\n",
       "    <tr style=\"text-align: right;\">\n",
       "      <th></th>\n",
       "      <th>LS2820 Bleed Blue Day and Date Functioning Steel Strap Adult Boys Analog Watch  - For Men</th>\n",
       "      <th>₹314</th>\n",
       "      <th>4.1</th>\n",
       "    </tr>\n",
       "  </thead>\n",
       "  <tbody>\n",
       "    <tr>\n",
       "      <th>0</th>\n",
       "      <td>216-Brown Sporty look Designer Analog Watch  -...</td>\n",
       "      <td>₹217</td>\n",
       "      <td>4.1</td>\n",
       "    </tr>\n",
       "    <tr>\n",
       "      <th>1</th>\n",
       "      <td>2047-BL Day and Date Analog Watch  - For Men</td>\n",
       "      <td>₹314</td>\n",
       "      <td>4.1</td>\n",
       "    </tr>\n",
       "    <tr>\n",
       "      <th>2</th>\n",
       "      <td>LS2821 Bleed Blue Day and Date Functioning Str...</td>\n",
       "      <td>₹296</td>\n",
       "      <td>4</td>\n",
       "    </tr>\n",
       "    <tr>\n",
       "      <th>3</th>\n",
       "      <td>LCS-8049 DAY &amp; DATE FUNCTIONING Analog Watch  ...</td>\n",
       "      <td>₹314</td>\n",
       "      <td>4.1</td>\n",
       "    </tr>\n",
       "    <tr>\n",
       "      <th>4</th>\n",
       "      <td>MK-2061W Analog Watch  - For Men</td>\n",
       "      <td>₹269</td>\n",
       "      <td>4</td>\n",
       "    </tr>\n",
       "  </tbody>\n",
       "</table>\n",
       "</div>"
      ],
      "text/plain": [
       "  LS2820 Bleed Blue Day and Date Functioning Steel Strap Adult Boys Analog Watch  - For Men  \\\n",
       "0  216-Brown Sporty look Designer Analog Watch  -...                                          \n",
       "1       2047-BL Day and Date Analog Watch  - For Men                                          \n",
       "2  LS2821 Bleed Blue Day and Date Functioning Str...                                          \n",
       "3  LCS-8049 DAY & DATE FUNCTIONING Analog Watch  ...                                          \n",
       "4                   MK-2061W Analog Watch  - For Men                                          \n",
       "\n",
       "   ₹314  4.1  \n",
       "0  ₹217  4.1  \n",
       "1  ₹314  4.1  \n",
       "2  ₹296    4  \n",
       "3  ₹314  4.1  \n",
       "4  ₹269    4  "
      ]
     },
     "execution_count": 5,
     "metadata": {},
     "output_type": "execute_result"
    }
   ],
   "source": [
    "df.head()"
   ]
  },
  {
   "cell_type": "code",
   "execution_count": null,
   "id": "5123b674",
   "metadata": {},
   "outputs": [],
   "source": []
  }
 ],
 "metadata": {
  "kernelspec": {
   "display_name": "Python 3",
   "language": "python",
   "name": "python3"
  },
  "language_info": {
   "codemirror_mode": {
    "name": "ipython",
    "version": 3
   },
   "file_extension": ".py",
   "mimetype": "text/x-python",
   "name": "python",
   "nbconvert_exporter": "python",
   "pygments_lexer": "ipython3",
   "version": "3.8.0"
  }
 },
 "nbformat": 4,
 "nbformat_minor": 5
}
